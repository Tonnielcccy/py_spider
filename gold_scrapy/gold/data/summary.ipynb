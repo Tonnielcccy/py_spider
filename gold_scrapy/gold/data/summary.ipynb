{
 "cells": [
  {
   "cell_type": "code",
   "execution_count": 17,
   "id": "6360acf7",
   "metadata": {},
   "outputs": [],
   "source": [
    "import pandas  as pd\n",
    "import csv"
   ]
  },
  {
   "cell_type": "code",
   "execution_count": 18,
   "id": "d1ebc866",
   "metadata": {},
   "outputs": [
    {
     "name": "stderr",
     "output_type": "stream",
     "text": [
      "C:\\Users\\lcccccccccy\\AppData\\Roaming\\Python\\Python312\\site-packages\\openpyxl\\styles\\stylesheet.py:237: UserWarning: Workbook contains no default style, apply openpyxl's default\n",
      "  warn(\"Workbook contains no default style, apply openpyxl's default\")\n",
      "C:\\Users\\lcccccccccy\\AppData\\Roaming\\Python\\Python312\\site-packages\\openpyxl\\styles\\stylesheet.py:237: UserWarning: Workbook contains no default style, apply openpyxl's default\n",
      "  warn(\"Workbook contains no default style, apply openpyxl's default\")\n",
      "C:\\Users\\lcccccccccy\\AppData\\Roaming\\Python\\Python312\\site-packages\\openpyxl\\styles\\stylesheet.py:237: UserWarning: Workbook contains no default style, apply openpyxl's default\n",
      "  warn(\"Workbook contains no default style, apply openpyxl's default\")\n",
      "C:\\Users\\lcccccccccy\\AppData\\Roaming\\Python\\Python312\\site-packages\\openpyxl\\styles\\stylesheet.py:237: UserWarning: Workbook contains no default style, apply openpyxl's default\n",
      "  warn(\"Workbook contains no default style, apply openpyxl's default\")\n",
      "C:\\Users\\lcccccccccy\\AppData\\Roaming\\Python\\Python312\\site-packages\\openpyxl\\styles\\stylesheet.py:237: UserWarning: Workbook contains no default style, apply openpyxl's default\n",
      "  warn(\"Workbook contains no default style, apply openpyxl's default\")\n",
      "C:\\Users\\lcccccccccy\\AppData\\Roaming\\Python\\Python312\\site-packages\\openpyxl\\styles\\stylesheet.py:237: UserWarning: Workbook contains no default style, apply openpyxl's default\n",
      "  warn(\"Workbook contains no default style, apply openpyxl's default\")\n",
      "C:\\Users\\lcccccccccy\\AppData\\Roaming\\Python\\Python312\\site-packages\\openpyxl\\styles\\stylesheet.py:237: UserWarning: Workbook contains no default style, apply openpyxl's default\n",
      "  warn(\"Workbook contains no default style, apply openpyxl's default\")\n",
      "C:\\Users\\lcccccccccy\\AppData\\Roaming\\Python\\Python312\\site-packages\\openpyxl\\styles\\stylesheet.py:237: UserWarning: Workbook contains no default style, apply openpyxl's default\n",
      "  warn(\"Workbook contains no default style, apply openpyxl's default\")\n",
      "C:\\Users\\lcccccccccy\\AppData\\Roaming\\Python\\Python312\\site-packages\\openpyxl\\styles\\stylesheet.py:237: UserWarning: Workbook contains no default style, apply openpyxl's default\n",
      "  warn(\"Workbook contains no default style, apply openpyxl's default\")\n"
     ]
    }
   ],
   "source": [
    "df = pd.read_excel('2024.01.01-02.29.xlsx')\n",
    "df1 = pd.read_excel('2024.03.01-04.30.xlsx')\n",
    "df2 = pd.read_excel('2024.05.01-06.30.xlsx')\n",
    "df3 = pd.read_excel('2024.07.01-08.31.xlsx')\n",
    "df4 = pd.read_excel('2024.09.01-10.31.xlsx')\n",
    "df5 = pd.read_excel('2024.11.01-12.31.xlsx')\n",
    "df6 = pd.read_excel('2025.01.01-02.28.xlsx')\n",
    "df7 = pd.read_excel('2025.03.01-04.31.xlsx')\n",
    "df8 = pd.read_excel('2025.05.01-05.19.xlsx')"
   ]
  },
  {
   "cell_type": "code",
   "execution_count": null,
   "id": "c40e04d5",
   "metadata": {},
   "outputs": [
    {
     "name": "stdout",
     "output_type": "stream",
     "text": [
      "Index(['日期', '合约', '开盘价', '最高价', '最低价', '收盘价', '涨跌（元）', '涨跌幅', '加权平均价',\n",
      "       '成交量（kg）'],\n",
      "      dtype='object')\n"
     ]
    }
   ],
   "source": [
    "#合并文件，并且修改列名\n",
    "df_final = pd.concat([df, df1, df2, df3, df4, df5, df6, df7, df8], ignore_index=True)\n",
    "df_final1 = df_final.iloc[:, 1:11]\n",
    "print(df_final1.columns)\n",
    "df_final1.columns = ['date', 'hy', 'kpj', 'zgj', 'zdj', 'spj','zd', 'zdf', 'jqpjj', 'cjl']\n"
   ]
  },
  {
   "cell_type": "code",
   "execution_count": null,
   "id": "67f03189",
   "metadata": {},
   "outputs": [],
   "source": [
    "# 按照日期进行排序，并将日期格式化为YYYY-MM-DD\n",
    "df_final1['date'] = pd.to_datetime(df_final1['date'], errors='coerce')\n",
    "df_final1['date'] = df_final1['date'].dt.strftime('%Y-%m-%d')\n",
    "df_final1 = df_final1.sort_values(by='date', ascending=True)"
   ]
  },
  {
   "cell_type": "code",
   "execution_count": null,
   "id": "b3525508",
   "metadata": {},
   "outputs": [],
   "source": [
    "# 保存\n",
    "df_final1.to_csv('2024.901-2025.519.csv', index=False, quoting=csv.QUOTE_NONNUMERIC, encoding='utf-8-sig')"
   ]
  },
  {
   "cell_type": "code",
   "execution_count": null,
   "id": "f2584487",
   "metadata": {},
   "outputs": [],
   "source": [
    "# 去除时间在2004-12-31日之前的数据\n",
    "df9 = pd.read_csv('cleaned.csv')\n",
    "date = '2004-12-31'\n",
    "df9['date'] = pd.to_datetime(df9['date'], errors='coerce')\n",
    "df9 = df9[df9['date'] >= pd.to_datetime(date)]\n",
    "df9 = df9.sort_values(by='date', ascending=True)\n",
    "df9.to_csv('2008.811-2023.1229.csv', index=False, quoting=csv.QUOTE_NONNUMERIC, encoding='utf-8-sig')"
   ]
  },
  {
   "cell_type": "code",
   "execution_count": null,
   "id": "6f2de84c",
   "metadata": {},
   "outputs": [],
   "source": [
    "# 选择时间在2008年8月11日到2008年8月29日之间的数据\n",
    "df10 = pd.read_csv('2008.811-2023.1229.csv')\n",
    "date = '2008-09-01'\n",
    "df10['date'] = pd.to_datetime(df10['date'], errors='coerce')\n",
    "df10 = df10[df10['date'] < pd.to_datetime(date)]\n",
    "df10 = df10.sort_values(by='date', ascending=True)\n",
    "df10.to_csv('2008.811-2008.829.csv', index=False, quoting=csv.QUOTE_NONNUMERIC, encoding='utf-8-sig')"
   ]
  },
  {
   "cell_type": "code",
   "execution_count": null,
   "id": "be19b3f2",
   "metadata": {},
   "outputs": [
    {
     "name": "stdout",
     "output_type": "stream",
     "text": [
      "Index(['date', 'hy', 'kpj', 'zgj', 'zdj', 'spj', 'zd', 'zdf', 'jqpjj', 'cjl',\n",
      "       'url'],\n",
      "      dtype='object')\n"
     ]
    }
   ],
   "source": [
    "#计算涨跌幅，规范列表\n",
    "df11 = pd.read_csv('2008.811-2008.829.csv')\n",
    "df11.drop(columns='cjje', inplace=True)\n",
    "col3 = df11.columns[2]\n",
    "col7 = df11.columns[6]\n",
    "df11[col3] = pd.to_numeric(df11[col3], errors='coerce')\n",
    "df11[col7] = pd.to_numeric(df11[col7], errors='coerce')\n",
    "percentage = (df11[col7] / df11[col3] * 100).round(2).astype(str)\n",
    "df11.insert(loc=7, column='zdf', value=percentage)\n",
    "print(df11.columns)\n",
    "df11.to_csv('2008.811-2008.829.csv', index=False)"
   ]
  },
  {
   "cell_type": "code",
   "execution_count": null,
   "id": "55f4da02",
   "metadata": {},
   "outputs": [],
   "source": [
    "df12 = df11[~df11['hy'].str.contains(r'[\\u4e00-\\u9fff]', regex=True, na=False)]\n",
    "df12.to_csv('2008.811-2008.829.csv', index=False, quoting=csv.QUOTE_NONNUMERIC, encoding='utf-8-sig')\n"
   ]
  },
  {
   "cell_type": "code",
   "execution_count": 44,
   "id": "7347ecf2",
   "metadata": {},
   "outputs": [],
   "source": [
    "date = '2008-09-01'\n",
    "df13 = df9[df9['date'] >= pd.to_datetime(date)]\n",
    "df13 = df13[~df13['hy'].str.contains(r'[\\u4e00-\\u9fff]', regex=True, na=False)]\n",
    "df13.columns = [\"date\",\"hy\",\"kpj\",\"zgj\",\"zdj\",\"spj\",\"zd\",\"zdf\",\"jqpjj\",\"cjl\",\"url\"]\n",
    "df13.to_csv('2008.901-2023.1229.csv', index=False)\n"
   ]
  },
  {
   "cell_type": "code",
   "execution_count": 45,
   "id": "b9b8bddd",
   "metadata": {},
   "outputs": [],
   "source": [
    "df08829 = pd.read_csv('2008.811-2008.829.csv')\n",
    "df231229 = pd.read_csv('2008.901-2023.1229.csv')\n",
    "df25519 = pd.read_csv('2024.901-2025.519.csv')\n",
    "df_all = pd.concat([df08829, df231229, df25519])\n",
    "df_all['date'] = pd.to_datetime(df_all['date'], errors='coerce')\n",
    "df_all = df_all.sort_values(by='date', ascending=True)\n",
    "df_all.to_csv('2008.811-2025.519.csv', index=False)"
   ]
  },
  {
   "cell_type": "code",
   "execution_count": null,
   "id": "444800d6",
   "metadata": {},
   "outputs": [],
   "source": []
  }
 ],
 "metadata": {
  "kernelspec": {
   "display_name": "base",
   "language": "python",
   "name": "python3"
  },
  "language_info": {
   "codemirror_mode": {
    "name": "ipython",
    "version": 3
   },
   "file_extension": ".py",
   "mimetype": "text/x-python",
   "name": "python",
   "nbconvert_exporter": "python",
   "pygments_lexer": "ipython3",
   "version": "3.12.3"
  }
 },
 "nbformat": 4,
 "nbformat_minor": 5
}
