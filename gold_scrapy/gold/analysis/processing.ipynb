{
 "cells": [
  {
   "cell_type": "code",
   "execution_count": 3,
   "id": "ca5c69e6",
   "metadata": {},
   "outputs": [],
   "source": [
    "import pandas as pd\n",
    "import matplotlib.pyplot as plt"
   ]
  },
  {
   "cell_type": "code",
   "execution_count": 4,
   "id": "500e7295",
   "metadata": {},
   "outputs": [],
   "source": [
    "data = pd.read_csv('E:/vscode project/DataAnalysis/gold_scrapy/gold/data/2008.811-2025.519.csv')\n"
   ]
  },
  {
   "cell_type": "code",
   "execution_count": 9,
   "id": "6e4e4054",
   "metadata": {},
   "outputs": [
    {
     "name": "stdout",
     "output_type": "stream",
     "text": [
      "hy\n",
      "Au100g      3668\n",
      "Ag(T+D)     3617\n",
      "Au(T+D)     3360\n",
      "Au(T+N1)    2502\n",
      "Au(T+N2)    2470\n",
      "            ... \n",
      "Au（T+N1）       1\n",
      "Au（T+D）        1\n",
      "Variety        1\n",
      "Ag(            1\n",
      "N              1\n",
      "Name: count, Length: 72, dtype: int64\n"
     ]
    }
   ],
   "source": [
    "print(data['hy'].value_counts())\n",
    "Au9999 = data[data['hy'].isin(['Au9999', 'Au99.99'])]\n"
   ]
  },
  {
   "cell_type": "code",
   "execution_count": 12,
   "id": "5fedef31",
   "metadata": {},
   "outputs": [
    {
     "name": "stderr",
     "output_type": "stream",
     "text": [
      "C:\\Users\\lcccccccccy\\AppData\\Local\\Temp\\ipykernel_2024\\4101097958.py:1: SettingWithCopyWarning: \n",
      "A value is trying to be set on a copy of a slice from a DataFrame.\n",
      "Try using .loc[row_indexer,col_indexer] = value instead\n",
      "\n",
      "See the caveats in the documentation: https://pandas.pydata.org/pandas-docs/stable/user_guide/indexing.html#returning-a-view-versus-a-copy\n",
      "  Au9999['hy'] = Au9999['hy'].replace({'Au9999': 'Au99.99'})\n"
     ]
    }
   ],
   "source": [
    "Au9999['hy'] = Au9999['hy'].replace({'Au9999': 'Au99.99'})"
   ]
  },
  {
   "cell_type": "code",
   "execution_count": null,
   "id": "dc65e852",
   "metadata": {},
   "outputs": [],
   "source": [
    "Au9999.to_csv('Au9999.csv', index=False)"
   ]
  },
  {
   "cell_type": "code",
   "execution_count": null,
   "id": "47a4d298",
   "metadata": {},
   "outputs": [],
   "source": []
  }
 ],
 "metadata": {
  "kernelspec": {
   "display_name": "base",
   "language": "python",
   "name": "python3"
  },
  "language_info": {
   "codemirror_mode": {
    "name": "ipython",
    "version": 3
   },
   "file_extension": ".py",
   "mimetype": "text/x-python",
   "name": "python",
   "nbconvert_exporter": "python",
   "pygments_lexer": "ipython3",
   "version": "3.12.3"
  }
 },
 "nbformat": 4,
 "nbformat_minor": 5
}
